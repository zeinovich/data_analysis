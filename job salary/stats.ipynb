{
 "cells": [
  {
   "cell_type": "code",
   "execution_count": 2,
   "metadata": {},
   "outputs": [],
   "source": [
    "import pandas as pd\n",
    "import numpy as np\n",
    "\n",
    "# Read the data\n",
    "with open('ds_salaries.csv', 'r') as f:\n",
    "    salary = pd.read_csv(f)"
   ]
  },
  {
   "cell_type": "markdown",
   "metadata": {},
   "source": [
    "From Job Salary visualization we can see that it seems like there are 3 drops in salaries.\n",
    " - 2020 -> 2021 EN\n",
    " - 2020 -> 2021 SE\n",
    " - 2021 -> 2022 EX\n",
    "\n",
    "To test it out I'm going to do t-testing"
   ]
  },
  {
   "cell_type": "code",
   "execution_count": 34,
   "metadata": {},
   "outputs": [],
   "source": [
    "exp_group = {}\n",
    "for group, frame in salary.groupby('experience_level'):\n",
    "    mean = frame.groupby('work_year')['salary_in_usd'].mean()\n",
    "    std = frame.groupby('work_year')['salary_in_usd'].std()\n",
    "    count = frame.groupby('work_year')['salary_in_usd'].count()\n",
    "    mean.name = 'mean'\n",
    "    std.name = 'std'\n",
    "    count.name = 'count'\n",
    "    data = pd.concat([mean, std, count], axis=1)\n",
    "    exp_group[group] = data"
   ]
  },
  {
   "cell_type": "code",
   "execution_count": 36,
   "metadata": {},
   "outputs": [],
   "source": [
    "EN = exp_group['EN']\n",
    "MI = exp_group['MI']\n",
    "SE = exp_group['SE']\n",
    "EX = exp_group['EX']"
   ]
  },
  {
   "cell_type": "code",
   "execution_count": 52,
   "metadata": {},
   "outputs": [
    {
     "name": "stdout",
     "output_type": "stream",
     "text": [
      "T-stat: 0.3689691325215797, p-value: 0.7133498969708484\n"
     ]
    }
   ],
   "source": [
    "# EN\n",
    "import scipy.stats as stats\n",
    "std_2020 = EN.loc[2020, 'std']\n",
    "std_2021 = EN.loc[2021, 'std']\n",
    "odds, p = stats.ttest_ind_from_stats(mean1=EN.loc[2020, 'mean'], std1=std_2020, nobs1=EN.loc[2020, 'count'],\n",
    "                                    mean2=EN.loc[2021, 'mean'], std2=std_2021, nobs2=EN.loc[2021, 'count'])\n",
    "print(f'T-stat: {odds}, p-value: {p}')"
   ]
  },
  {
   "cell_type": "markdown",
   "metadata": {},
   "source": [
    "We can see that drop is statistically insignificant"
   ]
  },
  {
   "cell_type": "code",
   "execution_count": 53,
   "metadata": {},
   "outputs": [
    {
     "name": "stdout",
     "output_type": "stream",
     "text": [
      "T-stat: 0.5877998883264128, p-value: 0.5582250317216748\n"
     ]
    }
   ],
   "source": [
    "# SE\n",
    "std_2020 = SE.loc[2020, 'std']\n",
    "std_2021 = SE.loc[2021, 'std']\n",
    "odds, p = stats.ttest_ind_from_stats(mean1=SE.loc[2020, 'mean'], std1=std_2020, nobs1=SE.loc[2020, 'count'],\n",
    "                                    mean2=SE.loc[2021, 'mean'], std2=std_2021, nobs2=SE.loc[2021, 'count'])\n",
    "print(f'T-stat: {odds}, p-value: {p}')"
   ]
  },
  {
   "cell_type": "markdown",
   "metadata": {},
   "source": [
    "Still an insignificant drop"
   ]
  },
  {
   "cell_type": "code",
   "execution_count": 54,
   "metadata": {},
   "outputs": [
    {
     "name": "stdout",
     "output_type": "stream",
     "text": [
      "T-stat: 0.9493969946202515, p-value: 0.3527324044921114\n"
     ]
    }
   ],
   "source": [
    "#EX\n",
    "std_2021 = EX.loc[2021, 'std']\n",
    "std_2022 = EX.loc[2022, 'std']\n",
    "odds, p = stats.ttest_ind_from_stats(mean1=EX.loc[2021, 'mean'], std1=std_2021, nobs1=EX.loc[2021, 'count'],\n",
    "                                    mean2=EX.loc[2022, 'mean'], std2=std_2022, nobs2=EX.loc[2022, 'count'])\n",
    "print(f'T-stat: {odds}, p-value: {p}')"
   ]
  },
  {
   "cell_type": "markdown",
   "metadata": {},
   "source": [
    "Summarizing, all those drops are not of statistical significance\n",
    "\n",
    "Next is that in France 100% remotes earn seemingly almost 2 times more."
   ]
  },
  {
   "cell_type": "code",
   "execution_count": 55,
   "metadata": {},
   "outputs": [
    {
     "name": "stdout",
     "output_type": "stream",
     "text": [
      "T-stat: 3.1058144724551284, p-value: 0.00835275638773842\n"
     ]
    }
   ],
   "source": [
    "france_data = salary.query('company_location == \"FR\"')\n",
    "remotes = france_data.query('remote_ratio == 100')\n",
    "non_remotes = france_data.query('remote_ratio != 100')\n",
    "odds, p = stats.ttest_ind(remotes['salary_in_usd'], non_remotes['salary_in_usd'])\n",
    "print(f'T-stat: {odds}, p-value: {p}')"
   ]
  },
  {
   "cell_type": "markdown",
   "metadata": {},
   "source": [
    "P-value is very small so we reject H0 and conclude that remote workers earn more than non-remote, however I doubt that because there're only 2 remotes from France in set\n",
    "\n",
    "Also I guess that working in huge company (size of L) you'll earn more"
   ]
  },
  {
   "cell_type": "code",
   "execution_count": 56,
   "metadata": {},
   "outputs": [
    {
     "name": "stdout",
     "output_type": "stream",
     "text": [
      "T-stat: 1.680354798353194, p-value: 0.09340450658293355\n"
     ]
    }
   ],
   "source": [
    "L_data = salary.query('company_size == \"L\"')\n",
    "non_L_data = salary.query('company_size != \"L\"')\n",
    "odds, p = stats.ttest_ind(L_data['salary_in_usd'], non_L_data['salary_in_usd'])\n",
    "print(f'T-stat: {odds}, p-value: {p}')"
   ]
  },
  {
   "cell_type": "markdown",
   "metadata": {},
   "source": [
    "However, it appears not to be the case"
   ]
  }
 ],
 "metadata": {
  "kernelspec": {
   "display_name": "Python 3.9.13 ('data_analytics')",
   "language": "python",
   "name": "python3"
  },
  "language_info": {
   "name": "python",
   "version": "3.9.13"
  },
  "orig_nbformat": 4,
  "vscode": {
   "interpreter": {
    "hash": "e5fd812fb4fbb20649985952f396b781e66a19dd943b33b63b4b6da64efdfed4"
   }
  }
 },
 "nbformat": 4,
 "nbformat_minor": 2
}
