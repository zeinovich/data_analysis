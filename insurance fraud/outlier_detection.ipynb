{
 "cells": [
  {
   "cell_type": "code",
   "execution_count": 1,
   "metadata": {},
   "outputs": [],
   "source": [
    "import pickle\n",
    "import pandas as pd\n",
    "import numpy as np\n",
    "import seaborn as sns\n",
    "import matplotlib.pyplot as plt\n",
    "from sklearn.cluster import DBSCAN"
   ]
  },
  {
   "cell_type": "code",
   "execution_count": 2,
   "metadata": {},
   "outputs": [
    {
     "data": {
      "text/plain": [
       "Index(['DateOfIncident', 'TypeOfIncident', 'TypeOfCollission',\n",
       "       'SeverityOfIncident', 'AuthoritiesContacted', 'IncidentState',\n",
       "       'IncidentCity', 'IncidentAddress', 'IncidentTime', 'NumberOfVehicles',\n",
       "       'PropertyDamage', 'BodilyInjuries', 'Witnesses', 'PoliceReport',\n",
       "       'AmountOfTotalClaim', 'AmountOfInjuryClaim', 'AmountOfPropertyClaim',\n",
       "       'AmountOfVehicleDamage', 'CustomerLoyaltyPeriod',\n",
       "       'DateOfPolicyCoverage', 'InsurancePolicyState', 'Policy_Deductible',\n",
       "       'PolicyAnnualPremium', 'UmbrellaLimit', 'InsuredRelationship',\n",
       "       'InsuredAge', 'InsuredGender', 'InsuredEducationLevel',\n",
       "       'InsuredOccupation', 'InsuredHobbies', 'CapitalGains', 'CapitalLoss',\n",
       "       'VehicleMake', 'VehicleModel', 'VehicleYOM', 'PolicyCombinedLimit',\n",
       "       'PolicySingleLimit', 'ReportedFraud', 'VehicleAge', 'PolicyAge'],\n",
       "      dtype='object')"
      ]
     },
     "execution_count": 2,
     "metadata": {},
     "output_type": "execute_result"
    }
   ],
   "source": [
    "with open('TrainData/train_label_encoded.pkl', 'rb') as f:\n",
    "    data = pickle.load(f)\n",
    "\n",
    "data.columns"
   ]
  },
  {
   "cell_type": "code",
   "execution_count": 3,
   "metadata": {},
   "outputs": [
    {
     "data": {
      "text/plain": [
       "DateOfIncident           0\n",
       "TypeOfIncident           0\n",
       "TypeOfCollission         0\n",
       "SeverityOfIncident       0\n",
       "AuthoritiesContacted     0\n",
       "IncidentState            0\n",
       "IncidentCity             0\n",
       "IncidentAddress          0\n",
       "IncidentTime             0\n",
       "NumberOfVehicles         0\n",
       "PropertyDamage           0\n",
       "BodilyInjuries           0\n",
       "Witnesses                0\n",
       "PoliceReport             0\n",
       "AmountOfTotalClaim       0\n",
       "AmountOfInjuryClaim      0\n",
       "AmountOfPropertyClaim    0\n",
       "AmountOfVehicleDamage    0\n",
       "CustomerLoyaltyPeriod    0\n",
       "DateOfPolicyCoverage     0\n",
       "InsurancePolicyState     0\n",
       "Policy_Deductible        0\n",
       "PolicyAnnualPremium      0\n",
       "UmbrellaLimit            0\n",
       "InsuredRelationship      0\n",
       "InsuredAge               0\n",
       "InsuredGender            0\n",
       "InsuredEducationLevel    0\n",
       "InsuredOccupation        0\n",
       "InsuredHobbies           0\n",
       "CapitalGains             0\n",
       "CapitalLoss              0\n",
       "VehicleMake              0\n",
       "VehicleModel             0\n",
       "VehicleYOM               0\n",
       "PolicyCombinedLimit      0\n",
       "PolicySingleLimit        0\n",
       "ReportedFraud            0\n",
       "VehicleAge               0\n",
       "PolicyAge                0\n",
       "dtype: int64"
      ]
     },
     "execution_count": 3,
     "metadata": {},
     "output_type": "execute_result"
    }
   ],
   "source": [
    "data.isna().sum()"
   ]
  },
  {
   "cell_type": "code",
   "execution_count": 90,
   "metadata": {},
   "outputs": [],
   "source": [
    "db = DBSCAN(eps=10.25, min_samples=10, n_jobs=1).fit(data.drop('ReportedFraud', axis=1))\n",
    "labels = db.labels_"
   ]
  },
  {
   "cell_type": "code",
   "execution_count": 91,
   "metadata": {},
   "outputs": [
    {
     "data": {
      "text/plain": [
       "(105,\n",
       " array([ -1,   0,   1,   2,   3,   4,   5,   6,   7,   8,   9,  10,  11,\n",
       "         12,  13,  14,  15,  16,  17,  18,  19,  20,  21,  22,  23,  24,\n",
       "         25,  26,  27,  28,  29,  30,  31,  32,  33,  34,  35,  36,  37,\n",
       "         38,  39,  40,  41,  42,  43,  44,  45,  46,  47,  48,  49,  50,\n",
       "         51,  52,  53,  54,  55,  56,  57,  58,  59,  60,  61,  62,  63,\n",
       "         64,  65,  66,  67,  68,  69,  70,  71,  72,  73,  74,  75,  76,\n",
       "         77,  78,  79,  80,  81,  82,  83,  84,  85,  86,  87,  88,  89,\n",
       "         90,  91,  92,  93,  94,  95,  96,  97,  98,  99, 100, 101, 102,\n",
       "        103], dtype=int64))"
      ]
     },
     "execution_count": 91,
     "metadata": {},
     "output_type": "execute_result"
    }
   ],
   "source": [
    "len(np.unique(labels)),  np.unique(labels)"
   ]
  },
  {
   "cell_type": "code",
   "execution_count": 92,
   "metadata": {},
   "outputs": [
    {
     "data": {
      "text/plain": [
       "'13.070467471216535%'"
      ]
     },
     "execution_count": 92,
     "metadata": {},
     "output_type": "execute_result"
    }
   ],
   "source": [
    "f'{len(labels[labels == -1]) / len(labels) * 100}%'"
   ]
  },
  {
   "cell_type": "code",
   "execution_count": 93,
   "metadata": {},
   "outputs": [
    {
     "data": {
      "text/plain": [
       "'13.770070648683367%'"
      ]
     },
     "execution_count": 93,
     "metadata": {},
     "output_type": "execute_result"
    }
   ],
   "source": [
    "f'{len(data[(labels == -1) & data.ReportedFraud]) / len(data[data.ReportedFraud == 1]) * 100}%'"
   ]
  },
  {
   "cell_type": "code",
   "execution_count": 94,
   "metadata": {},
   "outputs": [
    {
     "data": {
      "text/plain": [
       "1072"
      ]
     },
     "execution_count": 94,
     "metadata": {},
     "output_type": "execute_result"
    }
   ],
   "source": [
    "len(data[(labels == -1) & data.ReportedFraud])"
   ]
  },
  {
   "cell_type": "code",
   "execution_count": 95,
   "metadata": {},
   "outputs": [
    {
     "data": {
      "text/plain": [
       "7785"
      ]
     },
     "execution_count": 95,
     "metadata": {},
     "output_type": "execute_result"
    }
   ],
   "source": [
    "len(data[data.ReportedFraud == 1])"
   ]
  },
  {
   "cell_type": "code",
   "execution_count": 99,
   "metadata": {},
   "outputs": [
    {
     "data": {
      "text/plain": [
       "25067"
      ]
     },
     "execution_count": 99,
     "metadata": {},
     "output_type": "execute_result"
    }
   ],
   "source": [
    "data_inliers = data[labels != -1]\n",
    "len(data_inliers)"
   ]
  },
  {
   "cell_type": "code",
   "execution_count": 100,
   "metadata": {},
   "outputs": [
    {
     "data": {
      "text/html": [
       "<div>\n",
       "<style scoped>\n",
       "    .dataframe tbody tr th:only-of-type {\n",
       "        vertical-align: middle;\n",
       "    }\n",
       "\n",
       "    .dataframe tbody tr th {\n",
       "        vertical-align: top;\n",
       "    }\n",
       "\n",
       "    .dataframe thead th {\n",
       "        text-align: right;\n",
       "    }\n",
       "</style>\n",
       "<table border=\"1\" class=\"dataframe\">\n",
       "  <thead>\n",
       "    <tr style=\"text-align: right;\">\n",
       "      <th></th>\n",
       "      <th>DateOfIncident</th>\n",
       "      <th>TypeOfIncident</th>\n",
       "      <th>TypeOfCollission</th>\n",
       "      <th>SeverityOfIncident</th>\n",
       "      <th>AuthoritiesContacted</th>\n",
       "      <th>IncidentState</th>\n",
       "      <th>IncidentCity</th>\n",
       "      <th>IncidentAddress</th>\n",
       "      <th>IncidentTime</th>\n",
       "      <th>NumberOfVehicles</th>\n",
       "      <th>...</th>\n",
       "      <th>CapitalGains</th>\n",
       "      <th>CapitalLoss</th>\n",
       "      <th>VehicleMake</th>\n",
       "      <th>VehicleModel</th>\n",
       "      <th>VehicleYOM</th>\n",
       "      <th>PolicyCombinedLimit</th>\n",
       "      <th>PolicySingleLimit</th>\n",
       "      <th>ReportedFraud</th>\n",
       "      <th>VehicleAge</th>\n",
       "      <th>PolicyAge</th>\n",
       "    </tr>\n",
       "  </thead>\n",
       "  <tbody>\n",
       "    <tr>\n",
       "      <th>0</th>\n",
       "      <td>0.217735</td>\n",
       "      <td>0</td>\n",
       "      <td>2</td>\n",
       "      <td>2</td>\n",
       "      <td>4</td>\n",
       "      <td>4</td>\n",
       "      <td>0</td>\n",
       "      <td>279</td>\n",
       "      <td>0.851958</td>\n",
       "      <td>2</td>\n",
       "      <td>...</td>\n",
       "      <td>1.216956</td>\n",
       "      <td>-0.844038</td>\n",
       "      <td>1</td>\n",
       "      <td>5</td>\n",
       "      <td>0.547253</td>\n",
       "      <td>-1.081375</td>\n",
       "      <td>-0.983964</td>\n",
       "      <td>0</td>\n",
       "      <td>-0.547450</td>\n",
       "      <td>0.533940</td>\n",
       "    </tr>\n",
       "    <tr>\n",
       "      <th>1</th>\n",
       "      <td>0.158341</td>\n",
       "      <td>0</td>\n",
       "      <td>2</td>\n",
       "      <td>2</td>\n",
       "      <td>4</td>\n",
       "      <td>4</td>\n",
       "      <td>4</td>\n",
       "      <td>279</td>\n",
       "      <td>-0.287094</td>\n",
       "      <td>2</td>\n",
       "      <td>...</td>\n",
       "      <td>1.719899</td>\n",
       "      <td>-0.844038</td>\n",
       "      <td>1</td>\n",
       "      <td>5</td>\n",
       "      <td>0.170856</td>\n",
       "      <td>-1.081375</td>\n",
       "      <td>-0.983964</td>\n",
       "      <td>0</td>\n",
       "      <td>-0.170793</td>\n",
       "      <td>0.229272</td>\n",
       "    </tr>\n",
       "    <tr>\n",
       "      <th>2</th>\n",
       "      <td>-0.910754</td>\n",
       "      <td>2</td>\n",
       "      <td>2</td>\n",
       "      <td>1</td>\n",
       "      <td>3</td>\n",
       "      <td>5</td>\n",
       "      <td>5</td>\n",
       "      <td>980</td>\n",
       "      <td>1.665567</td>\n",
       "      <td>0</td>\n",
       "      <td>...</td>\n",
       "      <td>1.567931</td>\n",
       "      <td>-1.388592</td>\n",
       "      <td>13</td>\n",
       "      <td>20</td>\n",
       "      <td>-1.147564</td>\n",
       "      <td>1.397586</td>\n",
       "      <td>1.444450</td>\n",
       "      <td>0</td>\n",
       "      <td>1.147508</td>\n",
       "      <td>0.076938</td>\n",
       "    </tr>\n",
       "    <tr>\n",
       "      <th>3</th>\n",
       "      <td>-0.673178</td>\n",
       "      <td>2</td>\n",
       "      <td>2</td>\n",
       "      <td>1</td>\n",
       "      <td>3</td>\n",
       "      <td>6</td>\n",
       "      <td>5</td>\n",
       "      <td>980</td>\n",
       "      <td>1.665567</td>\n",
       "      <td>0</td>\n",
       "      <td>...</td>\n",
       "      <td>0.898547</td>\n",
       "      <td>-1.736104</td>\n",
       "      <td>13</td>\n",
       "      <td>20</td>\n",
       "      <td>-0.394255</td>\n",
       "      <td>1.397586</td>\n",
       "      <td>1.444450</td>\n",
       "      <td>0</td>\n",
       "      <td>0.394193</td>\n",
       "      <td>-0.532398</td>\n",
       "    </tr>\n",
       "    <tr>\n",
       "      <th>4</th>\n",
       "      <td>-1.267120</td>\n",
       "      <td>2</td>\n",
       "      <td>1</td>\n",
       "      <td>1</td>\n",
       "      <td>1</td>\n",
       "      <td>5</td>\n",
       "      <td>5</td>\n",
       "      <td>624</td>\n",
       "      <td>-0.287094</td>\n",
       "      <td>0</td>\n",
       "      <td>...</td>\n",
       "      <td>-0.834616</td>\n",
       "      <td>-0.593256</td>\n",
       "      <td>12</td>\n",
       "      <td>8</td>\n",
       "      <td>0.924165</td>\n",
       "      <td>-1.081375</td>\n",
       "      <td>-0.983964</td>\n",
       "      <td>0</td>\n",
       "      <td>-0.924108</td>\n",
       "      <td>0.838608</td>\n",
       "    </tr>\n",
       "  </tbody>\n",
       "</table>\n",
       "<p>5 rows × 40 columns</p>\n",
       "</div>"
      ],
      "text/plain": [
       "   DateOfIncident  TypeOfIncident  TypeOfCollission  SeverityOfIncident  \\\n",
       "0        0.217735               0                 2                   2   \n",
       "1        0.158341               0                 2                   2   \n",
       "2       -0.910754               2                 2                   1   \n",
       "3       -0.673178               2                 2                   1   \n",
       "4       -1.267120               2                 1                   1   \n",
       "\n",
       "   AuthoritiesContacted  IncidentState  IncidentCity  IncidentAddress  \\\n",
       "0                     4              4             0              279   \n",
       "1                     4              4             4              279   \n",
       "2                     3              5             5              980   \n",
       "3                     3              6             5              980   \n",
       "4                     1              5             5              624   \n",
       "\n",
       "   IncidentTime  NumberOfVehicles  ...  CapitalGains  CapitalLoss  \\\n",
       "0      0.851958                 2  ...      1.216956    -0.844038   \n",
       "1     -0.287094                 2  ...      1.719899    -0.844038   \n",
       "2      1.665567                 0  ...      1.567931    -1.388592   \n",
       "3      1.665567                 0  ...      0.898547    -1.736104   \n",
       "4     -0.287094                 0  ...     -0.834616    -0.593256   \n",
       "\n",
       "   VehicleMake  VehicleModel  VehicleYOM  PolicyCombinedLimit  \\\n",
       "0            1             5    0.547253            -1.081375   \n",
       "1            1             5    0.170856            -1.081375   \n",
       "2           13            20   -1.147564             1.397586   \n",
       "3           13            20   -0.394255             1.397586   \n",
       "4           12             8    0.924165            -1.081375   \n",
       "\n",
       "   PolicySingleLimit  ReportedFraud  VehicleAge  PolicyAge  \n",
       "0          -0.983964              0   -0.547450   0.533940  \n",
       "1          -0.983964              0   -0.170793   0.229272  \n",
       "2           1.444450              0    1.147508   0.076938  \n",
       "3           1.444450              0    0.394193  -0.532398  \n",
       "4          -0.983964              0   -0.924108   0.838608  \n",
       "\n",
       "[5 rows x 40 columns]"
      ]
     },
     "execution_count": 100,
     "metadata": {},
     "output_type": "execute_result"
    }
   ],
   "source": [
    "data_inliers.head()"
   ]
  },
  {
   "cell_type": "code",
   "execution_count": 101,
   "metadata": {},
   "outputs": [],
   "source": [
    "with open('TrainData/train_inliers.pkl', 'wb') as f:\n",
    "    pickle.dump(data_inliers, f)"
   ]
  }
 ],
 "metadata": {
  "kernelspec": {
   "display_name": "data_analytics",
   "language": "python",
   "name": "python3"
  },
  "language_info": {
   "codemirror_mode": {
    "name": "ipython",
    "version": 3
   },
   "file_extension": ".py",
   "mimetype": "text/x-python",
   "name": "python",
   "nbconvert_exporter": "python",
   "pygments_lexer": "ipython3",
   "version": "3.9.13"
  },
  "orig_nbformat": 4,
  "vscode": {
   "interpreter": {
    "hash": "e5fd812fb4fbb20649985952f396b781e66a19dd943b33b63b4b6da64efdfed4"
   }
  }
 },
 "nbformat": 4,
 "nbformat_minor": 2
}
