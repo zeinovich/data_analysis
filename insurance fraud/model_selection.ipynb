{
 "cells": [
  {
   "cell_type": "code",
   "execution_count": 32,
   "metadata": {},
   "outputs": [],
   "source": [
    "import pandas as pd\n",
    "import numpy as np\n",
    "import matplotlib.pyplot as plt\n",
    "import pickle"
   ]
  },
  {
   "cell_type": "code",
   "execution_count": 33,
   "metadata": {},
   "outputs": [
    {
     "data": {
      "text/html": [
       "<div>\n",
       "<style scoped>\n",
       "    .dataframe tbody tr th:only-of-type {\n",
       "        vertical-align: middle;\n",
       "    }\n",
       "\n",
       "    .dataframe tbody tr th {\n",
       "        vertical-align: top;\n",
       "    }\n",
       "\n",
       "    .dataframe thead th {\n",
       "        text-align: right;\n",
       "    }\n",
       "</style>\n",
       "<table border=\"1\" class=\"dataframe\">\n",
       "  <thead>\n",
       "    <tr style=\"text-align: right;\">\n",
       "      <th></th>\n",
       "      <th>CustomerID</th>\n",
       "      <th>ReportedFraud</th>\n",
       "      <th>DateOfIncident</th>\n",
       "      <th>TypeOfIncident</th>\n",
       "      <th>TypeOfCollission</th>\n",
       "      <th>SeverityOfIncident</th>\n",
       "      <th>AuthoritiesContacted</th>\n",
       "      <th>IncidentState</th>\n",
       "      <th>IncidentCity</th>\n",
       "      <th>IncidentAddress</th>\n",
       "      <th>...</th>\n",
       "      <th>InsuredAge</th>\n",
       "      <th>InsuredZipCode</th>\n",
       "      <th>InsuredGender</th>\n",
       "      <th>InsuredEducationLevel</th>\n",
       "      <th>InsuredOccupation</th>\n",
       "      <th>InsuredHobbies</th>\n",
       "      <th>CapitalGains</th>\n",
       "      <th>CapitalLoss</th>\n",
       "      <th>PolicyCombinedLimit</th>\n",
       "      <th>PolicySingleLimit</th>\n",
       "    </tr>\n",
       "  </thead>\n",
       "  <tbody>\n",
       "    <tr>\n",
       "      <th>0</th>\n",
       "      <td>20065</td>\n",
       "      <td>N</td>\n",
       "      <td>2015-01-09</td>\n",
       "      <td>Multi-vehicle Collision</td>\n",
       "      <td>Rear Collision</td>\n",
       "      <td>Total Loss</td>\n",
       "      <td>Other</td>\n",
       "      <td>9</td>\n",
       "      <td>4</td>\n",
       "      <td>1404</td>\n",
       "      <td>...</td>\n",
       "      <td>2.399207</td>\n",
       "      <td>471784</td>\n",
       "      <td>MALE</td>\n",
       "      <td>JD</td>\n",
       "      <td>sales</td>\n",
       "      <td>video-games</td>\n",
       "      <td>-0.834616</td>\n",
       "      <td>-0.636247</td>\n",
       "      <td>-0.151765</td>\n",
       "      <td>-0.290132</td>\n",
       "    </tr>\n",
       "    <tr>\n",
       "      <th>1</th>\n",
       "      <td>37589</td>\n",
       "      <td>N</td>\n",
       "      <td>2015-02-20</td>\n",
       "      <td>Single Vehicle Collision</td>\n",
       "      <td>Side Collision</td>\n",
       "      <td>Minor Damage</td>\n",
       "      <td>Ambulance</td>\n",
       "      <td>4</td>\n",
       "      <td>3</td>\n",
       "      <td>1675</td>\n",
       "      <td>...</td>\n",
       "      <td>-0.602204</td>\n",
       "      <td>431937</td>\n",
       "      <td>FEMALE</td>\n",
       "      <td>High School</td>\n",
       "      <td>transport-moving</td>\n",
       "      <td>polo</td>\n",
       "      <td>1.021569</td>\n",
       "      <td>0.893521</td>\n",
       "      <td>-1.081375</td>\n",
       "      <td>-0.983964</td>\n",
       "    </tr>\n",
       "    <tr>\n",
       "      <th>2</th>\n",
       "      <td>24312</td>\n",
       "      <td>N</td>\n",
       "      <td>2015-01-14</td>\n",
       "      <td>Multi-vehicle Collision</td>\n",
       "      <td>Side Collision</td>\n",
       "      <td>Major Damage</td>\n",
       "      <td>Ambulance</td>\n",
       "      <td>5</td>\n",
       "      <td>2</td>\n",
       "      <td>1546</td>\n",
       "      <td>...</td>\n",
       "      <td>1.648854</td>\n",
       "      <td>479320</td>\n",
       "      <td>FEMALE</td>\n",
       "      <td>PhD</td>\n",
       "      <td>machine-op-inspct</td>\n",
       "      <td>exercise</td>\n",
       "      <td>-0.834616</td>\n",
       "      <td>0.893521</td>\n",
       "      <td>1.397586</td>\n",
       "      <td>1.444450</td>\n",
       "    </tr>\n",
       "    <tr>\n",
       "      <th>3</th>\n",
       "      <td>5493</td>\n",
       "      <td>Y</td>\n",
       "      <td>2015-01-07</td>\n",
       "      <td>Multi-vehicle Collision</td>\n",
       "      <td>Side Collision</td>\n",
       "      <td>Major Damage</td>\n",
       "      <td>Ambulance</td>\n",
       "      <td>7</td>\n",
       "      <td>4</td>\n",
       "      <td>1413</td>\n",
       "      <td>...</td>\n",
       "      <td>-1.727734</td>\n",
       "      <td>607763</td>\n",
       "      <td>FEMALE</td>\n",
       "      <td>College</td>\n",
       "      <td>exec-managerial</td>\n",
       "      <td>exercise</td>\n",
       "      <td>0.880455</td>\n",
       "      <td>-1.116315</td>\n",
       "      <td>-1.081375</td>\n",
       "      <td>-0.983964</td>\n",
       "    </tr>\n",
       "    <tr>\n",
       "      <th>4</th>\n",
       "      <td>7704</td>\n",
       "      <td>Y</td>\n",
       "      <td>2015-02-26</td>\n",
       "      <td>Multi-vehicle Collision</td>\n",
       "      <td>Side Collision</td>\n",
       "      <td>Major Damage</td>\n",
       "      <td>Other</td>\n",
       "      <td>4</td>\n",
       "      <td>6</td>\n",
       "      <td>1367</td>\n",
       "      <td>...</td>\n",
       "      <td>-1.477616</td>\n",
       "      <td>441783</td>\n",
       "      <td>MALE</td>\n",
       "      <td>Masters</td>\n",
       "      <td>sales</td>\n",
       "      <td>chess</td>\n",
       "      <td>-0.834616</td>\n",
       "      <td>0.893521</td>\n",
       "      <td>-0.151765</td>\n",
       "      <td>-0.290132</td>\n",
       "    </tr>\n",
       "  </tbody>\n",
       "</table>\n",
       "<p>5 rows × 41 columns</p>\n",
       "</div>"
      ],
      "text/plain": [
       "   CustomerID ReportedFraud DateOfIncident            TypeOfIncident  \\\n",
       "0       20065             N     2015-01-09   Multi-vehicle Collision   \n",
       "1       37589             N     2015-02-20  Single Vehicle Collision   \n",
       "2       24312             N     2015-01-14   Multi-vehicle Collision   \n",
       "3        5493             Y     2015-01-07   Multi-vehicle Collision   \n",
       "4        7704             Y     2015-02-26   Multi-vehicle Collision   \n",
       "\n",
       "  TypeOfCollission SeverityOfIncident AuthoritiesContacted IncidentState  \\\n",
       "0   Rear Collision         Total Loss                Other             9   \n",
       "1   Side Collision       Minor Damage            Ambulance             4   \n",
       "2   Side Collision       Major Damage            Ambulance             5   \n",
       "3   Side Collision       Major Damage            Ambulance             7   \n",
       "4   Side Collision       Major Damage                Other             4   \n",
       "\n",
       "  IncidentCity IncidentAddress  ...  InsuredAge InsuredZipCode InsuredGender  \\\n",
       "0            4            1404  ...    2.399207         471784          MALE   \n",
       "1            3            1675  ...   -0.602204         431937        FEMALE   \n",
       "2            2            1546  ...    1.648854         479320        FEMALE   \n",
       "3            4            1413  ...   -1.727734         607763        FEMALE   \n",
       "4            6            1367  ...   -1.477616         441783          MALE   \n",
       "\n",
       "  InsuredEducationLevel  InsuredOccupation InsuredHobbies  CapitalGains  \\\n",
       "0                    JD              sales    video-games     -0.834616   \n",
       "1           High School   transport-moving           polo      1.021569   \n",
       "2                   PhD  machine-op-inspct       exercise     -0.834616   \n",
       "3               College    exec-managerial       exercise      0.880455   \n",
       "4               Masters              sales          chess     -0.834616   \n",
       "\n",
       "   CapitalLoss  PolicyCombinedLimit  PolicySingleLimit  \n",
       "0    -0.636247            -0.151765          -0.290132  \n",
       "1     0.893521            -1.081375          -0.983964  \n",
       "2     0.893521             1.397586           1.444450  \n",
       "3    -1.116315            -1.081375          -0.983964  \n",
       "4     0.893521            -0.151765          -0.290132  \n",
       "\n",
       "[5 rows x 41 columns]"
      ]
     },
     "execution_count": 33,
     "metadata": {},
     "output_type": "execute_result"
    }
   ],
   "source": [
    "with open('TrainData/train_data_scaled.pkl', 'rb') as f:\n",
    "    train_data = pickle.load(f)\n",
    "\n",
    "train_data.head()"
   ]
  },
  {
   "cell_type": "code",
   "execution_count": 34,
   "metadata": {},
   "outputs": [
    {
     "data": {
      "text/plain": [
       "0    5900\n",
       "1    5298\n",
       "2    5318\n",
       "3    8393\n",
       "4    4904\n",
       "Name: TimeDelta, dtype: int64"
      ]
     },
     "execution_count": 34,
     "metadata": {},
     "output_type": "execute_result"
    }
   ],
   "source": [
    "train_data['DateOfIncident'] = train_data['DateOfIncident'].astype('string')\n",
    "train_data['DateOfIncident'] = pd.to_datetime(train_data['DateOfIncident'])\n",
    "\n",
    "\n",
    "train_data['DateOfPolicyCoverage'] = train_data['DateOfPolicyCoverage'].astype('string')\n",
    "train_data['DateOfPolicyCoverage'] = pd.to_datetime(train_data['DateOfPolicyCoverage'])\n",
    "\n",
    "train_data['TimeDelta'] = train_data['DateOfIncident'] - train_data['DateOfPolicyCoverage']\n",
    "train_data['TimeDelta'] = train_data['TimeDelta'].dt.days\n",
    "train_data['TimeDelta'] = train_data['TimeDelta'].astype('int64')\n",
    "train_data.drop(['DateOfIncident', 'DateOfPolicyCoverage'], axis=1, inplace=True)\n",
    "train_data['TimeDelta'].head()"
   ]
  },
  {
   "cell_type": "code",
   "execution_count": 35,
   "metadata": {},
   "outputs": [
    {
     "data": {
      "text/plain": [
       "0    0.469348\n",
       "1    0.218107\n",
       "2    0.226454\n",
       "3    1.509788\n",
       "4    0.053673\n",
       "Name: TimeDelta, dtype: float64"
      ]
     },
     "execution_count": 35,
     "metadata": {},
     "output_type": "execute_result"
    }
   ],
   "source": [
    "from sklearn.preprocessing import StandardScaler\n",
    "\n",
    "scaler = StandardScaler()\n",
    "train_data['TimeDelta'] = scaler.fit_transform(train_data['TimeDelta'].values.reshape(-1,1))\n",
    "train_data['TimeDelta'].head()"
   ]
  },
  {
   "cell_type": "code",
   "execution_count": 36,
   "metadata": {},
   "outputs": [],
   "source": [
    "with open('models/timedelta_scaler.pkl', 'wb') as f:\n",
    "    pickle.dump(scaler, f)"
   ]
  },
  {
   "cell_type": "code",
   "execution_count": 37,
   "metadata": {},
   "outputs": [
    {
     "data": {
      "text/html": [
       "<div>\n",
       "<style scoped>\n",
       "    .dataframe tbody tr th:only-of-type {\n",
       "        vertical-align: middle;\n",
       "    }\n",
       "\n",
       "    .dataframe tbody tr th {\n",
       "        vertical-align: top;\n",
       "    }\n",
       "\n",
       "    .dataframe thead th {\n",
       "        text-align: right;\n",
       "    }\n",
       "</style>\n",
       "<table border=\"1\" class=\"dataframe\">\n",
       "  <thead>\n",
       "    <tr style=\"text-align: right;\">\n",
       "      <th></th>\n",
       "      <th>CustomerID</th>\n",
       "      <th>DateOfIncident</th>\n",
       "      <th>TypeOfIncident</th>\n",
       "      <th>TypeOfCollission</th>\n",
       "      <th>SeverityOfIncident</th>\n",
       "      <th>AuthoritiesContacted</th>\n",
       "      <th>IncidentState</th>\n",
       "      <th>IncidentCity</th>\n",
       "      <th>IncidentAddress</th>\n",
       "      <th>IncidentTime</th>\n",
       "      <th>...</th>\n",
       "      <th>InsuredAge</th>\n",
       "      <th>InsuredZipCode</th>\n",
       "      <th>InsuredGender</th>\n",
       "      <th>InsuredEducationLevel</th>\n",
       "      <th>InsuredOccupation</th>\n",
       "      <th>InsuredHobbies</th>\n",
       "      <th>CapitalGains</th>\n",
       "      <th>CapitalLoss</th>\n",
       "      <th>PolicyCombinedLimit</th>\n",
       "      <th>PolicySingleLimit</th>\n",
       "    </tr>\n",
       "  </thead>\n",
       "  <tbody>\n",
       "    <tr>\n",
       "      <th>0</th>\n",
       "      <td>10008</td>\n",
       "      <td>2015-02-05</td>\n",
       "      <td>Multi-vehicle Collision</td>\n",
       "      <td>Front Collision</td>\n",
       "      <td>Minor Damage</td>\n",
       "      <td>Ambulance</td>\n",
       "      <td>5</td>\n",
       "      <td>2</td>\n",
       "      <td>1354</td>\n",
       "      <td>4</td>\n",
       "      <td>...</td>\n",
       "      <td>-1.477616</td>\n",
       "      <td>471704</td>\n",
       "      <td>FEMALE</td>\n",
       "      <td>High School</td>\n",
       "      <td>adm-clerical</td>\n",
       "      <td>base-jumping</td>\n",
       "      <td>1.206101</td>\n",
       "      <td>-1.148558</td>\n",
       "      <td>1.397586</td>\n",
       "      <td>1.444450</td>\n",
       "    </tr>\n",
       "    <tr>\n",
       "      <th>1</th>\n",
       "      <td>10010</td>\n",
       "      <td>2015-01-13</td>\n",
       "      <td>Single Vehicle Collision</td>\n",
       "      <td>Rear Collision</td>\n",
       "      <td>Minor Damage</td>\n",
       "      <td>Fire</td>\n",
       "      <td>9</td>\n",
       "      <td>5</td>\n",
       "      <td>1383</td>\n",
       "      <td>16</td>\n",
       "      <td>...</td>\n",
       "      <td>0.148148</td>\n",
       "      <td>455810</td>\n",
       "      <td>FEMALE</td>\n",
       "      <td>MD</td>\n",
       "      <td>prof-specialty</td>\n",
       "      <td>golf</td>\n",
       "      <td>1.216956</td>\n",
       "      <td>-1.456661</td>\n",
       "      <td>-1.081375</td>\n",
       "      <td>-0.983964</td>\n",
       "    </tr>\n",
       "    <tr>\n",
       "      <th>2</th>\n",
       "      <td>10015</td>\n",
       "      <td>2015-01-05</td>\n",
       "      <td>Multi-vehicle Collision</td>\n",
       "      <td>Rear Collision</td>\n",
       "      <td>Minor Damage</td>\n",
       "      <td>Police</td>\n",
       "      <td>5</td>\n",
       "      <td>2</td>\n",
       "      <td>2030</td>\n",
       "      <td>20</td>\n",
       "      <td>...</td>\n",
       "      <td>0.023090</td>\n",
       "      <td>461919</td>\n",
       "      <td>MALE</td>\n",
       "      <td>JD</td>\n",
       "      <td>other-service</td>\n",
       "      <td>movies</td>\n",
       "      <td>0.265345</td>\n",
       "      <td>0.893521</td>\n",
       "      <td>-0.151765</td>\n",
       "      <td>-0.290132</td>\n",
       "    </tr>\n",
       "    <tr>\n",
       "      <th>3</th>\n",
       "      <td>10020</td>\n",
       "      <td>2015-01-03</td>\n",
       "      <td>Vehicle Theft</td>\n",
       "      <td>Rear Collision</td>\n",
       "      <td>Trivial Damage</td>\n",
       "      <td>None</td>\n",
       "      <td>7</td>\n",
       "      <td>5</td>\n",
       "      <td>1449</td>\n",
       "      <td>10</td>\n",
       "      <td>...</td>\n",
       "      <td>-0.101969</td>\n",
       "      <td>600904</td>\n",
       "      <td>FEMALE</td>\n",
       "      <td>Masters</td>\n",
       "      <td>exec-managerial</td>\n",
       "      <td>video-games</td>\n",
       "      <td>1.643915</td>\n",
       "      <td>0.893521</td>\n",
       "      <td>1.397586</td>\n",
       "      <td>-0.290132</td>\n",
       "    </tr>\n",
       "    <tr>\n",
       "      <th>4</th>\n",
       "      <td>1003</td>\n",
       "      <td>2015-02-22</td>\n",
       "      <td>Multi-vehicle Collision</td>\n",
       "      <td>Rear Collision</td>\n",
       "      <td>Minor Damage</td>\n",
       "      <td>Police</td>\n",
       "      <td>5</td>\n",
       "      <td>2</td>\n",
       "      <td>1916</td>\n",
       "      <td>7</td>\n",
       "      <td>...</td>\n",
       "      <td>-1.227498</td>\n",
       "      <td>430632</td>\n",
       "      <td>FEMALE</td>\n",
       "      <td>PhD</td>\n",
       "      <td>sales</td>\n",
       "      <td>board-games</td>\n",
       "      <td>0.435405</td>\n",
       "      <td>0.893521</td>\n",
       "      <td>-1.081375</td>\n",
       "      <td>-0.983964</td>\n",
       "    </tr>\n",
       "  </tbody>\n",
       "</table>\n",
       "<p>5 rows × 40 columns</p>\n",
       "</div>"
      ],
      "text/plain": [
       "   CustomerID DateOfIncident            TypeOfIncident TypeOfCollission  \\\n",
       "0       10008     2015-02-05   Multi-vehicle Collision  Front Collision   \n",
       "1       10010     2015-01-13  Single Vehicle Collision   Rear Collision   \n",
       "2       10015     2015-01-05   Multi-vehicle Collision   Rear Collision   \n",
       "3       10020     2015-01-03             Vehicle Theft   Rear Collision   \n",
       "4        1003     2015-02-22   Multi-vehicle Collision   Rear Collision   \n",
       "\n",
       "  SeverityOfIncident AuthoritiesContacted IncidentState IncidentCity  \\\n",
       "0       Minor Damage            Ambulance             5            2   \n",
       "1       Minor Damage                 Fire             9            5   \n",
       "2       Minor Damage               Police             5            2   \n",
       "3     Trivial Damage                 None             7            5   \n",
       "4       Minor Damage               Police             5            2   \n",
       "\n",
       "  IncidentAddress  IncidentTime  ... InsuredAge InsuredZipCode InsuredGender  \\\n",
       "0            1354             4  ...  -1.477616         471704        FEMALE   \n",
       "1            1383            16  ...   0.148148         455810        FEMALE   \n",
       "2            2030            20  ...   0.023090         461919          MALE   \n",
       "3            1449            10  ...  -0.101969         600904        FEMALE   \n",
       "4            1916             7  ...  -1.227498         430632        FEMALE   \n",
       "\n",
       "  InsuredEducationLevel InsuredOccupation  InsuredHobbies  CapitalGains  \\\n",
       "0           High School      adm-clerical    base-jumping      1.206101   \n",
       "1                    MD    prof-specialty            golf      1.216956   \n",
       "2                    JD     other-service          movies      0.265345   \n",
       "3               Masters   exec-managerial     video-games      1.643915   \n",
       "4                   PhD             sales     board-games      0.435405   \n",
       "\n",
       "   CapitalLoss  PolicyCombinedLimit  PolicySingleLimit  \n",
       "0    -1.148558             1.397586           1.444450  \n",
       "1    -1.456661            -1.081375          -0.983964  \n",
       "2     0.893521            -0.151765          -0.290132  \n",
       "3     0.893521             1.397586          -0.290132  \n",
       "4     0.893521            -1.081375          -0.983964  \n",
       "\n",
       "[5 rows x 40 columns]"
      ]
     },
     "execution_count": 37,
     "metadata": {},
     "output_type": "execute_result"
    }
   ],
   "source": [
    "with open('TestData/test_data_scaled.pkl', 'rb') as f:\n",
    "    test_data = pickle.load(f)\n",
    "\n",
    "test_data.head()"
   ]
  },
  {
   "cell_type": "code",
   "execution_count": 38,
   "metadata": {},
   "outputs": [
    {
     "data": {
      "text/plain": [
       "CustomerID                  int64\n",
       "DateOfIncident           category\n",
       "TypeOfIncident           category\n",
       "TypeOfCollission         category\n",
       "SeverityOfIncident       category\n",
       "AuthoritiesContacted     category\n",
       "IncidentState            category\n",
       "IncidentCity             category\n",
       "IncidentAddress          category\n",
       "IncidentTime                int64\n",
       "NumberOfVehicles         category\n",
       "PropertyDamage           category\n",
       "BodilyInjuries           category\n",
       "Witnesses                category\n",
       "PoliceReport             category\n",
       "AmountOfTotalClaim        float64\n",
       "AmountOfInjuryClaim       float64\n",
       "AmountOfPropertyClaim     float64\n",
       "AmountOfVehicleDamage     float64\n",
       "InsurancePolicyNumber       int64\n",
       "CustomerLoyaltyPeriod     float64\n",
       "DateOfPolicyCoverage     category\n",
       "InsurancePolicyState     category\n",
       "Policy_Deductible         float64\n",
       "PolicyAnnualPremium       float64\n",
       "UmbrellaLimit             float64\n",
       "InsuredRelationship      category\n",
       "VehicleMake              category\n",
       "VehicleModel             category\n",
       "VehicleYOM               category\n",
       "InsuredAge                float64\n",
       "InsuredZipCode           category\n",
       "InsuredGender            category\n",
       "InsuredEducationLevel    category\n",
       "InsuredOccupation        category\n",
       "InsuredHobbies           category\n",
       "CapitalGains              float64\n",
       "CapitalLoss               float64\n",
       "PolicyCombinedLimit       float64\n",
       "PolicySingleLimit         float64\n",
       "dtype: object"
      ]
     },
     "execution_count": 38,
     "metadata": {},
     "output_type": "execute_result"
    }
   ],
   "source": [
    "test_data.dtypes"
   ]
  },
  {
   "cell_type": "code",
   "execution_count": 39,
   "metadata": {},
   "outputs": [
    {
     "data": {
      "text/plain": [
       "0    6115\n",
       "1    1160\n",
       "2    1633\n",
       "3    5228\n",
       "4    5282\n",
       "Name: TimeDelta, dtype: int64"
      ]
     },
     "execution_count": 39,
     "metadata": {},
     "output_type": "execute_result"
    }
   ],
   "source": [
    "test_data['DateOfIncident'] = test_data['DateOfIncident'].astype('string')\n",
    "test_data['DateOfIncident'] = pd.to_datetime(test_data['DateOfIncident'])\n",
    "\n",
    "\n",
    "test_data['DateOfPolicyCoverage'] = test_data['DateOfPolicyCoverage'].astype('string')\n",
    "test_data['DateOfPolicyCoverage'] = pd.to_datetime(test_data['DateOfPolicyCoverage'])\n",
    "\n",
    "test_data['TimeDelta'] = test_data['DateOfIncident'] - test_data['DateOfPolicyCoverage']\n",
    "test_data['TimeDelta'] = test_data['TimeDelta'].dt.days\n",
    "test_data['TimeDelta'] = test_data['TimeDelta'].astype('int64')\n",
    "test_data.drop(['DateOfIncident', 'DateOfPolicyCoverage'], axis=1, inplace=True)\n",
    "test_data['TimeDelta'].head()"
   ]
  },
  {
   "cell_type": "code",
   "execution_count": 40,
   "metadata": {},
   "outputs": [
    {
     "data": {
      "text/plain": [
       "0    0.547906\n",
       "1   -1.510277\n",
       "2   -1.313805\n",
       "3    0.179469\n",
       "4    0.201899\n",
       "Name: TimeDelta, dtype: float64"
      ]
     },
     "execution_count": 40,
     "metadata": {},
     "output_type": "execute_result"
    }
   ],
   "source": [
    "test_data['TimeDelta'] = scaler.fit_transform(test_data['TimeDelta'].values.reshape(-1,1))\n",
    "test_data['TimeDelta'].head()"
   ]
  },
  {
   "cell_type": "code",
   "execution_count": 41,
   "metadata": {},
   "outputs": [
    {
     "data": {
      "text/plain": [
       "CustomerID                  int64\n",
       "ReportedFraud            category\n",
       "TypeOfIncident           category\n",
       "TypeOfCollission         category\n",
       "SeverityOfIncident       category\n",
       "AuthoritiesContacted     category\n",
       "IncidentState            category\n",
       "IncidentCity             category\n",
       "IncidentAddress          category\n",
       "IncidentTime                int64\n",
       "NumberOfVehicles         category\n",
       "PropertyDamage           category\n",
       "BodilyInjuries           category\n",
       "Witnesses                category\n",
       "PoliceReport             category\n",
       "AmountOfTotalClaim        float64\n",
       "AmountOfInjuryClaim       float64\n",
       "AmountOfPropertyClaim     float64\n",
       "AmountOfVehicleDamage     float64\n",
       "InsurancePolicyNumber       int64\n",
       "CustomerLoyaltyPeriod     float64\n",
       "InsurancePolicyState     category\n",
       "Policy_Deductible         float64\n",
       "PolicyAnnualPremium       float64\n",
       "UmbrellaLimit             float64\n",
       "InsuredRelationship      category\n",
       "VehicleMake              category\n",
       "VehicleModel             category\n",
       "VehicleYOM               category\n",
       "InsuredAge                float64\n",
       "InsuredZipCode           category\n",
       "InsuredGender            category\n",
       "InsuredEducationLevel    category\n",
       "InsuredOccupation        category\n",
       "InsuredHobbies           category\n",
       "CapitalGains              float64\n",
       "CapitalLoss               float64\n",
       "PolicyCombinedLimit       float64\n",
       "PolicySingleLimit         float64\n",
       "TimeDelta                 float64\n",
       "dtype: object"
      ]
     },
     "execution_count": 41,
     "metadata": {},
     "output_type": "execute_result"
    }
   ],
   "source": [
    "train_data.dtypes"
   ]
  },
  {
   "cell_type": "code",
   "execution_count": 42,
   "metadata": {},
   "outputs": [
    {
     "data": {
      "text/plain": [
       "['TypeOfIncident',\n",
       " 'TypeOfCollission',\n",
       " 'SeverityOfIncident',\n",
       " 'AuthoritiesContacted',\n",
       " 'IncidentState',\n",
       " 'IncidentCity',\n",
       " 'IncidentAddress',\n",
       " 'NumberOfVehicles',\n",
       " 'PropertyDamage',\n",
       " 'BodilyInjuries',\n",
       " 'Witnesses',\n",
       " 'PoliceReport',\n",
       " 'InsurancePolicyState',\n",
       " 'InsuredRelationship',\n",
       " 'VehicleMake',\n",
       " 'VehicleModel',\n",
       " 'VehicleYOM',\n",
       " 'InsuredZipCode',\n",
       " 'InsuredGender',\n",
       " 'InsuredEducationLevel',\n",
       " 'InsuredOccupation',\n",
       " 'InsuredHobbies']"
      ]
     },
     "execution_count": 42,
     "metadata": {},
     "output_type": "execute_result"
    }
   ],
   "source": [
    "datatypes = pd.DataFrame(train_data.dtypes)\n",
    "\n",
    "cat_cols = datatypes[datatypes[0] == 'category'].index\n",
    "cat_cols = cat_cols.tolist()\n",
    "cat_cols.remove('ReportedFraud')\n",
    "cat_cols"
   ]
  },
  {
   "cell_type": "code",
   "execution_count": 43,
   "metadata": {},
   "outputs": [
    {
     "data": {
      "text/html": [
       "<div>\n",
       "<style scoped>\n",
       "    .dataframe tbody tr th:only-of-type {\n",
       "        vertical-align: middle;\n",
       "    }\n",
       "\n",
       "    .dataframe tbody tr th {\n",
       "        vertical-align: top;\n",
       "    }\n",
       "\n",
       "    .dataframe thead th {\n",
       "        text-align: right;\n",
       "    }\n",
       "</style>\n",
       "<table border=\"1\" class=\"dataframe\">\n",
       "  <thead>\n",
       "    <tr style=\"text-align: right;\">\n",
       "      <th></th>\n",
       "      <th>CustomerID</th>\n",
       "      <th>ReportedFraud</th>\n",
       "      <th>TypeOfIncident</th>\n",
       "      <th>TypeOfCollission</th>\n",
       "      <th>SeverityOfIncident</th>\n",
       "      <th>AuthoritiesContacted</th>\n",
       "      <th>IncidentState</th>\n",
       "      <th>IncidentCity</th>\n",
       "      <th>IncidentAddress</th>\n",
       "      <th>IncidentTime</th>\n",
       "      <th>...</th>\n",
       "      <th>InsuredZipCode</th>\n",
       "      <th>InsuredGender</th>\n",
       "      <th>InsuredEducationLevel</th>\n",
       "      <th>InsuredOccupation</th>\n",
       "      <th>InsuredHobbies</th>\n",
       "      <th>CapitalGains</th>\n",
       "      <th>CapitalLoss</th>\n",
       "      <th>PolicyCombinedLimit</th>\n",
       "      <th>PolicySingleLimit</th>\n",
       "      <th>TimeDelta</th>\n",
       "    </tr>\n",
       "  </thead>\n",
       "  <tbody>\n",
       "    <tr>\n",
       "      <th>0</th>\n",
       "      <td>20065</td>\n",
       "      <td>N</td>\n",
       "      <td>0</td>\n",
       "      <td>1</td>\n",
       "      <td>2</td>\n",
       "      <td>3</td>\n",
       "      <td>6</td>\n",
       "      <td>3</td>\n",
       "      <td>360</td>\n",
       "      <td>19</td>\n",
       "      <td>...</td>\n",
       "      <td>577</td>\n",
       "      <td>1</td>\n",
       "      <td>3</td>\n",
       "      <td>11</td>\n",
       "      <td>18</td>\n",
       "      <td>-0.834616</td>\n",
       "      <td>-0.636247</td>\n",
       "      <td>-0.151765</td>\n",
       "      <td>-0.290132</td>\n",
       "      <td>0.469348</td>\n",
       "    </tr>\n",
       "    <tr>\n",
       "      <th>1</th>\n",
       "      <td>37589</td>\n",
       "      <td>N</td>\n",
       "      <td>2</td>\n",
       "      <td>2</td>\n",
       "      <td>1</td>\n",
       "      <td>0</td>\n",
       "      <td>1</td>\n",
       "      <td>2</td>\n",
       "      <td>604</td>\n",
       "      <td>14</td>\n",
       "      <td>...</td>\n",
       "      <td>29</td>\n",
       "      <td>0</td>\n",
       "      <td>2</td>\n",
       "      <td>13</td>\n",
       "      <td>14</td>\n",
       "      <td>1.021569</td>\n",
       "      <td>0.893521</td>\n",
       "      <td>-1.081375</td>\n",
       "      <td>-0.983964</td>\n",
       "      <td>0.218107</td>\n",
       "    </tr>\n",
       "    <tr>\n",
       "      <th>2</th>\n",
       "      <td>24312</td>\n",
       "      <td>N</td>\n",
       "      <td>0</td>\n",
       "      <td>2</td>\n",
       "      <td>0</td>\n",
       "      <td>0</td>\n",
       "      <td>2</td>\n",
       "      <td>1</td>\n",
       "      <td>490</td>\n",
       "      <td>21</td>\n",
       "      <td>...</td>\n",
       "      <td>692</td>\n",
       "      <td>0</td>\n",
       "      <td>6</td>\n",
       "      <td>6</td>\n",
       "      <td>8</td>\n",
       "      <td>-0.834616</td>\n",
       "      <td>0.893521</td>\n",
       "      <td>1.397586</td>\n",
       "      <td>1.444450</td>\n",
       "      <td>0.226454</td>\n",
       "    </tr>\n",
       "    <tr>\n",
       "      <th>3</th>\n",
       "      <td>5493</td>\n",
       "      <td>Y</td>\n",
       "      <td>0</td>\n",
       "      <td>2</td>\n",
       "      <td>0</td>\n",
       "      <td>0</td>\n",
       "      <td>4</td>\n",
       "      <td>3</td>\n",
       "      <td>369</td>\n",
       "      <td>12</td>\n",
       "      <td>...</td>\n",
       "      <td>809</td>\n",
       "      <td>0</td>\n",
       "      <td>1</td>\n",
       "      <td>3</td>\n",
       "      <td>8</td>\n",
       "      <td>0.880455</td>\n",
       "      <td>-1.116315</td>\n",
       "      <td>-1.081375</td>\n",
       "      <td>-0.983964</td>\n",
       "      <td>1.509788</td>\n",
       "    </tr>\n",
       "    <tr>\n",
       "      <th>4</th>\n",
       "      <td>7704</td>\n",
       "      <td>Y</td>\n",
       "      <td>0</td>\n",
       "      <td>2</td>\n",
       "      <td>0</td>\n",
       "      <td>3</td>\n",
       "      <td>1</td>\n",
       "      <td>5</td>\n",
       "      <td>325</td>\n",
       "      <td>3</td>\n",
       "      <td>...</td>\n",
       "      <td>160</td>\n",
       "      <td>1</td>\n",
       "      <td>5</td>\n",
       "      <td>11</td>\n",
       "      <td>5</td>\n",
       "      <td>-0.834616</td>\n",
       "      <td>0.893521</td>\n",
       "      <td>-0.151765</td>\n",
       "      <td>-0.290132</td>\n",
       "      <td>0.053673</td>\n",
       "    </tr>\n",
       "  </tbody>\n",
       "</table>\n",
       "<p>5 rows × 40 columns</p>\n",
       "</div>"
      ],
      "text/plain": [
       "   CustomerID ReportedFraud  TypeOfIncident  TypeOfCollission  \\\n",
       "0       20065             N               0                 1   \n",
       "1       37589             N               2                 2   \n",
       "2       24312             N               0                 2   \n",
       "3        5493             Y               0                 2   \n",
       "4        7704             Y               0                 2   \n",
       "\n",
       "   SeverityOfIncident  AuthoritiesContacted  IncidentState  IncidentCity  \\\n",
       "0                   2                     3              6             3   \n",
       "1                   1                     0              1             2   \n",
       "2                   0                     0              2             1   \n",
       "3                   0                     0              4             3   \n",
       "4                   0                     3              1             5   \n",
       "\n",
       "   IncidentAddress  IncidentTime  ...  InsuredZipCode  InsuredGender  \\\n",
       "0              360            19  ...             577              1   \n",
       "1              604            14  ...              29              0   \n",
       "2              490            21  ...             692              0   \n",
       "3              369            12  ...             809              0   \n",
       "4              325             3  ...             160              1   \n",
       "\n",
       "   InsuredEducationLevel  InsuredOccupation  InsuredHobbies  CapitalGains  \\\n",
       "0                      3                 11              18     -0.834616   \n",
       "1                      2                 13              14      1.021569   \n",
       "2                      6                  6               8     -0.834616   \n",
       "3                      1                  3               8      0.880455   \n",
       "4                      5                 11               5     -0.834616   \n",
       "\n",
       "   CapitalLoss  PolicyCombinedLimit  PolicySingleLimit  TimeDelta  \n",
       "0    -0.636247            -0.151765          -0.290132   0.469348  \n",
       "1     0.893521            -1.081375          -0.983964   0.218107  \n",
       "2     0.893521             1.397586           1.444450   0.226454  \n",
       "3    -1.116315            -1.081375          -0.983964   1.509788  \n",
       "4     0.893521            -0.151765          -0.290132   0.053673  \n",
       "\n",
       "[5 rows x 40 columns]"
      ]
     },
     "execution_count": 43,
     "metadata": {},
     "output_type": "execute_result"
    }
   ],
   "source": [
    "from sklearn.preprocessing import LabelEncoder\n",
    "\n",
    "le = LabelEncoder()\n",
    "\n",
    "test_data_label_encoded = test_data.copy()\n",
    "train_data_label_encoded = train_data.copy()\n",
    "for col in cat_cols:\n",
    "    train_data_label_encoded[col] = le.fit_transform(train_data_label_encoded[col])\n",
    "    test_data_label_encoded[col] = le.transform(test_data_label_encoded[col])\n",
    "train_data_label_encoded.head()"
   ]
  },
  {
   "cell_type": "code",
   "execution_count": 44,
   "metadata": {},
   "outputs": [
    {
     "data": {
      "text/plain": [
       "0    0\n",
       "1    0\n",
       "2    0\n",
       "3    1\n",
       "4    1\n",
       "Name: ReportedFraud, dtype: category\n",
       "Categories (2, int64): [0, 1]"
      ]
     },
     "execution_count": 44,
     "metadata": {},
     "output_type": "execute_result"
    }
   ],
   "source": [
    "train_data_label_encoded['ReportedFraud'] = train_data_label_encoded['ReportedFraud'].map({'Y': 1, 'N': 0})\n",
    "train_data_label_encoded['ReportedFraud'].head()"
   ]
  },
  {
   "cell_type": "code",
   "execution_count": 63,
   "metadata": {},
   "outputs": [],
   "source": [
    "from sklearn.model_selection import train_test_split\n",
    "\n",
    "X = train_data_label_encoded.drop(['ReportedFraud', 'CustomerID', 'InsurancePolicyNumber'], axis=1)\n",
    "y = train_data_label_encoded['ReportedFraud']\n",
    "\n",
    "X_tr, X_test_dev, y_tr, y_test_dev = train_test_split(X, y, test_size=0.2)"
   ]
  },
  {
   "cell_type": "code",
   "execution_count": 52,
   "metadata": {},
   "outputs": [],
   "source": [
    "from sklearn.model_selection import cross_val_score\n",
    "from sklearn.metrics import accuracy_score, precision_score, recall_score, f1_score, roc_auc_score, confusion_matrix\n",
    "\n",
    "def model_scores(model, X_train, y_train, X_test, y_test):\n",
    "    model.fit(X_train, y_train)\n",
    "    y_pred = model.predict(X_test)\n",
    "    print('Accuracy: ', accuracy_score(y_test, y_pred))\n",
    "    print('Precision: ', precision_score(y_test, y_pred))\n",
    "    print('Recall: ', recall_score(y_test, y_pred))\n",
    "    print('F1 Score: ', f1_score(y_test, y_pred))\n",
    "    print('ROC AUC Score: ', roc_auc_score(y_test, y_pred))\n",
    "    print('Confusion Matrix: \\n', confusion_matrix(y_test, y_pred))\n",
    "    print('Cross Validation Score: ', cross_val_score(model, X_train, y_train, cv=5, scoring='recall').mean())"
   ]
  },
  {
   "cell_type": "code",
   "execution_count": 65,
   "metadata": {},
   "outputs": [
    {
     "name": "stdout",
     "output_type": "stream",
     "text": [
      "Accuracy:  0.7749653259361997\n",
      "Precision:  0.6478365384615384\n",
      "Recall:  0.3490932642487047\n",
      "F1 Score:  0.4537037037037037\n",
      "ROC AUC Score:  0.6398638669728371\n",
      "Confusion Matrix: \n",
      " [[3931  293]\n",
      " [1005  539]]\n",
      "Cross Validation Score:  0.36612828724518076\n"
     ]
    }
   ],
   "source": [
    "from sklearn.linear_model import LogisticRegression\n",
    "\n",
    "logreg = LogisticRegression(max_iter=100000)\n",
    "model_scores(logreg, X_tr, y_tr, X_test_dev, y_test_dev)"
   ]
  },
  {
   "cell_type": "code",
   "execution_count": 66,
   "metadata": {},
   "outputs": [
    {
     "name": "stdout",
     "output_type": "stream",
     "text": [
      "Accuracy:  0.9228502080443828\n",
      "Precision:  0.9172361427486713\n",
      "Recall:  0.7823834196891192\n",
      "F1 Score:  0.8444599790283118\n",
      "ROC AUC Score:  0.8782892477233476\n",
      "Confusion Matrix: \n",
      " [[4115  109]\n",
      " [ 336 1208]]\n",
      "Cross Validation Score:  0.7639802867935375\n"
     ]
    }
   ],
   "source": [
    "from sklearn.ensemble import RandomForestClassifier\n",
    "\n",
    "rf = RandomForestClassifier()\n",
    "model_scores(rf, X_tr, y_tr, X_test_dev, y_test_dev)"
   ]
  },
  {
   "cell_type": "code",
   "execution_count": 67,
   "metadata": {},
   "outputs": [
    {
     "name": "stdout",
     "output_type": "stream",
     "text": [
      "Accuracy:  0.8580097087378641\n",
      "Precision:  0.7536738978306508\n",
      "Recall:  0.697538860103627\n",
      "F1 Score:  0.7245206861755803\n",
      "ROC AUC Score:  0.8071027633851469\n",
      "Confusion Matrix: \n",
      " [[3872  352]\n",
      " [ 467 1077]]\n",
      "Cross Validation Score:  0.7069393976719838\n"
     ]
    }
   ],
   "source": [
    "from sklearn.ensemble import GradientBoostingClassifier\n",
    "\n",
    "gb = GradientBoostingClassifier()\n",
    "model_scores(gb, X_tr, y_tr, X_test_dev, y_test_dev)"
   ]
  },
  {
   "cell_type": "code",
   "execution_count": 68,
   "metadata": {},
   "outputs": [
    {
     "name": "stdout",
     "output_type": "stream",
     "text": [
      "Accuracy:  0.7444521497919556\n",
      "Precision:  0.6458333333333334\n",
      "Recall:  0.10038860103626943\n",
      "F1 Score:  0.17376681614349773\n",
      "ROC AUC Score:  0.5401327474878316\n",
      "Confusion Matrix: \n",
      " [[4139   85]\n",
      " [1389  155]]\n",
      "Cross Validation Score:  0.4264706637104556\n"
     ]
    }
   ],
   "source": [
    "from sklearn.linear_model import SGDClassifier\n",
    "\n",
    "sgd = SGDClassifier(max_iter=100000)\n",
    "model_scores(sgd, X_tr, y_tr, X_test_dev, y_test_dev)"
   ]
  },
  {
   "cell_type": "code",
   "execution_count": 57,
   "metadata": {},
   "outputs": [],
   "source": [
    "from sklearn.svm import LinearSVC\n",
    "\n",
    "svc = LinearSVC(max_iter=100000, tol = 0.001)\n",
    "model_scores(svc, X_tr, y_tr, X_test_dev, y_test_dev)"
   ]
  },
  {
   "cell_type": "code",
   "execution_count": 73,
   "metadata": {},
   "outputs": [
    {
     "name": "stdout",
     "output_type": "stream",
     "text": [
      "Accuracy:  0.765256588072122\n",
      "Precision:  0.6733576642335767\n",
      "Recall:  0.23898963730569947\n",
      "F1 Score:  0.35277246653919697\n",
      "ROC AUC Score:  0.5983063716831527\n",
      "Confusion Matrix: \n",
      " [[4045  179]\n",
      " [1175  369]]\n",
      "Cross Validation Score:  0.25060266161647266\n"
     ]
    }
   ],
   "source": [
    "from sklearn.linear_model import RidgeClassifier\n",
    "\n",
    "ridge = RidgeClassifier(max_iter=100000, tol = 0.001)\n",
    "model_scores(ridge, X_tr, y_tr, X_test_dev, y_test_dev)"
   ]
  },
  {
   "cell_type": "code",
   "execution_count": 70,
   "metadata": {},
   "outputs": [
    {
     "name": "stdout",
     "output_type": "stream",
     "text": [
      "Accuracy:  0.730755894590846\n",
      "Precision:  0.40816326530612246\n",
      "Recall:  0.012953367875647668\n",
      "F1 Score:  0.025109855618330196\n",
      "ROC AUC Score:  0.5030439187863087\n",
      "Confusion Matrix: \n",
      " [[4195   29]\n",
      " [1524   20]]\n",
      "Cross Validation Score:  0.4390545769949292\n"
     ]
    }
   ],
   "source": [
    "sgd_log = SGDClassifier(loss='log_loss')\n",
    "model_scores(sgd_log, X_tr, y_tr, X_test_dev, y_test_dev)"
   ]
  },
  {
   "cell_type": "code",
   "execution_count": 72,
   "metadata": {},
   "outputs": [
    {
     "name": "stdout",
     "output_type": "stream",
     "text": [
      "Accuracy:  0.7406380027739251\n",
      "Precision:  0.5216216216216216\n",
      "Recall:  0.375\n",
      "F1 Score:  0.43632253202712884\n",
      "ROC AUC Score:  0.6246448863636364\n",
      "Confusion Matrix: \n",
      " [[3693  531]\n",
      " [ 965  579]]\n",
      "Cross Validation Score:  0.4944837921619348\n"
     ]
    }
   ],
   "source": [
    "sgd_mod_hinge = SGDClassifier(loss='modified_huber')\n",
    "model_scores(sgd_mod_hinge, X_tr, y_tr, X_test_dev, y_test_dev)"
   ]
  },
  {
   "cell_type": "code",
   "execution_count": 75,
   "metadata": {},
   "outputs": [
    {
     "name": "stdout",
     "output_type": "stream",
     "text": [
      "Accuracy:  0.7647364771151179\n",
      "Precision:  0.6515397082658023\n",
      "Recall:  0.2603626943005181\n",
      "F1 Score:  0.3720499768625636\n",
      "ROC AUC Score:  0.6047315365441985\n",
      "Confusion Matrix: \n",
      " [[4009  215]\n",
      " [1142  402]]\n",
      "Cross Validation Score:  0.28440932232965854\n"
     ]
    }
   ],
   "source": [
    "from sklearn.ensemble import AdaBoostClassifier\n",
    "\n",
    "ada = AdaBoostClassifier(base_estimator=LogisticRegression(max_iter=100000), n_estimators=100)\n",
    "model_scores(ada, X_tr, y_tr, X_test_dev, y_test_dev)"
   ]
  },
  {
   "cell_type": "code",
   "execution_count": 76,
   "metadata": {},
   "outputs": [
    {
     "name": "stdout",
     "output_type": "stream",
     "text": [
      "Accuracy:  0.8299237170596394\n",
      "Precision:  0.6747361887026692\n",
      "Recall:  0.7040155440414507\n",
      "F1 Score:  0.6890649762282092\n",
      "ROC AUC Score:  0.7899812568692102\n",
      "Confusion Matrix: \n",
      " [[3700  524]\n",
      " [ 457 1087]]\n",
      "Cross Validation Score:  0.682582732852949\n"
     ]
    }
   ],
   "source": [
    "from sklearn.tree import DecisionTreeClassifier\n",
    "ada_tree = AdaBoostClassifier(base_estimator=DecisionTreeClassifier(), n_estimators=100)\n",
    "model_scores(ada_tree, X_tr, y_tr, X_test_dev, y_test_dev)"
   ]
  },
  {
   "cell_type": "code",
   "execution_count": 77,
   "metadata": {},
   "outputs": [
    {
     "name": "stdout",
     "output_type": "stream",
     "text": [
      "Accuracy:  0.8077323162274619\n",
      "Precision:  0.7520278099652375\n",
      "Recall:  0.42033678756476683\n",
      "F1 Score:  0.5392604902368093\n",
      "ROC AUC Score:  0.6848369543884439\n",
      "Confusion Matrix: \n",
      " [[4010  214]\n",
      " [ 895  649]]\n",
      "Cross Validation Score:  0.366603026010552\n"
     ]
    }
   ],
   "source": [
    "from sklearn.neural_network import MLPClassifier\n",
    "\n",
    "mlp = MLPClassifier(max_iter=100000)\n",
    "model_scores(mlp, X_tr, y_tr, X_test_dev, y_test_dev)"
   ]
  },
  {
   "cell_type": "markdown",
   "metadata": {},
   "source": [
    "Models to use RandomForest, GradientBoosting, ADA. "
   ]
  },
  {
   "cell_type": "code",
   "execution_count": 79,
   "metadata": {},
   "outputs": [],
   "source": [
    "with open('TrainData/train_data.pkl', 'wb') as f:\n",
    "    pickle.dump(train_data, f)\n",
    "\n",
    "with open('TestData/test_data.pkl', 'wb') as f:\n",
    "    pickle.dump(test_data, f)"
   ]
  }
 ],
 "metadata": {
  "kernelspec": {
   "display_name": "Python 3.9.13 ('data_analytics')",
   "language": "python",
   "name": "python3"
  },
  "language_info": {
   "codemirror_mode": {
    "name": "ipython",
    "version": 3
   },
   "file_extension": ".py",
   "mimetype": "text/x-python",
   "name": "python",
   "nbconvert_exporter": "python",
   "pygments_lexer": "ipython3",
   "version": "3.9.13"
  },
  "orig_nbformat": 4,
  "vscode": {
   "interpreter": {
    "hash": "e5fd812fb4fbb20649985952f396b781e66a19dd943b33b63b4b6da64efdfed4"
   }
  }
 },
 "nbformat": 4,
 "nbformat_minor": 2
}
